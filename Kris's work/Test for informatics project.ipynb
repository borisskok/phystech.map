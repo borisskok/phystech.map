{
 "cells": [
  {
   "cell_type": "code",
   "execution_count": 19,
   "metadata": {},
   "outputs": [
    {
     "name": "stdout",
     "output_type": "stream",
     "text": [
      "[[ 0.  3.  1.  3. inf inf]\n",
      " [ 3.  0.  4. inf inf inf]\n",
      " [ 1.  4.  0. inf  7.  5.]\n",
      " [ 3. inf inf  0. inf inf]\n",
      " [inf inf  7. inf  0. inf]\n",
      " [inf inf  5. inf inf  0.]]\n"
     ]
    }
   ],
   "source": [
    "import numpy as np\n",
    "import math\n",
    "\n",
    "with open(\"input.txt\", \"r\") as input:   #считываем данные из файла, разделяем всё по строкам\n",
    "    data = input.read().split(\"\\n\")\n",
    "\n",
    "names = []  #создаем список имен - названий вершин, знаем, что первая строка в файле их содержит\n",
    "for i in data[0].split(\" \"):\n",
    "    names.append(i)\n",
    "\n",
    "A = np.full((len(names), len(names)), math.inf) #создаем матрицу из бесконечностей\n",
    "\n",
    "for i in range(len(names)):     #начинаем заполнение матрицы весами ребер\n",
    "    A[i][i] = 0     #присваиваем нули по диагоналям\n",
    "    connection = data[i+1].split(\" \")       #знаем, что каждая следующая строка, после первой, содержит в себе название соединённых вершин и длину соединяющего их ребра\n",
    "    for x in range(len(names)):\n",
    "        if (connection[0] == names[x]):     #ищем первую вершину, указанную в строчке\n",
    "            for y in range(x, len(names), 1):       #ищем вторую вершину, указанную в строчке. Также знаем, что она гарантированно будет дальше по номеру, относительно первой вершины\n",
    "                if (connection[1] == names[y]):     #если это не гарантированно, то range(len(names))\n",
    "                    A[x][y] = connection[2]     #заполняем матрицу(получается симметричной)\n",
    "                    A[y][x] = connection[2]\n",
    "\n",
    "print(A)"
   ]
  },
  {
   "cell_type": "code",
   "execution_count": 33,
   "metadata": {},
   "outputs": [
    {
     "name": "stdout",
     "output_type": "stream",
     "text": [
      "4 3\n",
      "e d\n"
     ]
    }
   ],
   "source": [
    "with open(\"destinations.txt\", \"r\") as destinations:\n",
    "    dest = destinations.read().split(\" \")\n",
    "\n",
    "for i in range(len(names)):\n",
    "    if(dest[0] == names[i]):\n",
    "        start = i\n",
    "    if (dest[1] == names[i]):\n",
    "        end = i\n",
    "\n",
    "print(start, end)\n",
    "print(dest[0], dest[1])"
   ]
  },
  {
   "cell_type": "code",
   "execution_count": 34,
   "metadata": {},
   "outputs": [
    {
     "name": "stdout",
     "output_type": "stream",
     "text": [
      "[3, 0, 2, 4]\n",
      "d\n",
      "a\n",
      "c\n",
      "e\n"
     ]
    }
   ],
   "source": [
    "def arg_min(Weight, Viewed):\n",
    "    amin = -1\n",
    "    amax = math.inf     #максимальное значение\n",
    "    for i, t in enumerate(Weight):\n",
    "        if(t < amax) and i not in Viewed:\n",
    "            amax = t\n",
    "            amin = i\n",
    "    return amin\n",
    "\n",
    "\n",
    "Weight = [math.inf]*len(names)      #последняя строка таблицы\n",
    "\n",
    "Viewed = {start}        #просмотренные вершины\n",
    "Weight[start] = 0       #нулевой вес для стартовой вершины\n",
    "Optimal = [0]*len(names)        #оптимальные связи между вершинами\n",
    "\n",
    "v = start\n",
    "while v != -1:      #просматривавем все вершины\n",
    "    for j, dw in enumerate(A[v]):       #перебираем все связанные вершины с вершиной v\n",
    "        if j not in Viewed:     #если вершина ещё не просмотрена\n",
    "            w = Weight[v] + dw\n",
    "            if w < Weight[j]:\n",
    "                Weight[j] = w\n",
    "                Optimal[j] = v      #связываем вершину j с вершной v\n",
    "\n",
    "    v = arg_min(Weight, Viewed)     #выбираем следующий узел с наименьшим весом\n",
    "    if v >= 0:      #выбираем очередную вершину\n",
    "        Viewed.add(v)       #добавляем новую вершину в рассмотренные\n",
    "\n",
    "\n",
    "# формирование оптимального маршрута:\n",
    "P = [end]\n",
    "while end != start:\n",
    "    end = Optimal[P[-1]]\n",
    "    P.append(end)\n",
    "\n",
    "print(P)\n",
    "for i in range(len(P)):\n",
    "    print(names[P[i]])"
   ]
  },
  {
   "cell_type": "code",
   "execution_count": null,
   "metadata": {},
   "outputs": [],
   "source": []
  }
 ],
 "metadata": {
  "kernelspec": {
   "display_name": "Python 3",
   "language": "python",
   "name": "python3"
  },
  "language_info": {
   "codemirror_mode": {
    "name": "ipython",
    "version": 3
   },
   "file_extension": ".py",
   "mimetype": "text/x-python",
   "name": "python",
   "nbconvert_exporter": "python",
   "pygments_lexer": "ipython3",
   "version": "3.8.5"
  }
 },
 "nbformat": 4,
 "nbformat_minor": 4
}
