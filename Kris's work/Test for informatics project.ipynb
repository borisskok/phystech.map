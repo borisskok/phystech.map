{
 "cells": [
  {
   "cell_type": "code",
   "execution_count": 1,
   "metadata": {},
   "outputs": [
    {
     "name": "stdout",
     "output_type": "stream",
     "text": [
      "[3, 5]\n",
      "[3, 5, 4]\n",
      "[3, 5, 4]\n"
     ]
    }
   ],
   "source": [
    "import math\n",
    "\n",
    "\n",
    "def arg_min(T, S):\n",
    "    amin = -1\n",
    "    m = math.inf  # максимальное значение\n",
    "    for i, t in enumerate(T):\n",
    "        if t < m and i not in S:\n",
    "            m = t\n",
    "            amin = i\n",
    "\n",
    "    return amin\n",
    "\n",
    "\n",
    "D = ((0, 3, 1, 3, math.inf, math.inf),\n",
    "     (3, 0, 4, math.inf, math.inf, math.inf),\n",
    "     (1, 4, 0, math.inf, 7, 5),\n",
    "     (3, math.inf, math.inf, 0, math.inf, 2),\n",
    "     (math.inf, math.inf, 7, math.inf, 0, 4),\n",
    "     (math.inf, math.inf, 5, 2, 4, 0))\n",
    "\n",
    "N = len(D)  # число вершин в графе\n",
    "T = [math.inf]*N   # последняя строка таблицы\n",
    "\n",
    "v = 4      # стартовая вершина (нумерация с нуля)\n",
    "S = {v}     # просмотренные вершины\n",
    "T[v] = 0    # нулевой вес для стартовой вершины\n",
    "M = [0]*N   # оптимальные связи между вершинами\n",
    "\n",
    "while v != -1:          # цикл, пока не просмотрим все вершины\n",
    "    for j, dw in enumerate(D[v]):   # перебираем все связанные вершины с вершиной v\n",
    "        if j not in S:           # если вершина еще не просмотрена\n",
    "            w = T[v] + dw\n",
    "            if w < T[j]:\n",
    "                T[j] = w\n",
    "                M[j] = v        # связываем вершину j с вершиной v\n",
    "\n",
    "    v = arg_min(T, S)            # выбираем следующий узел с наименьшим весом\n",
    "    if v >= 0:                    # выбрана очередная вершина\n",
    "        S.add(v)                 # добавляем новую вершину в рассмотрение\n",
    "\n",
    "#print(T, M, sep=\"\\n\")\n",
    "\n",
    "# формирование оптимального маршрута:\n",
    "start = 4\n",
    "end = 3\n",
    "P = [end]\n",
    "while end != start:\n",
    "    end = M[P[-1]]\n",
    "    P.append(end)\n",
    "    print(P)\n",
    "\n",
    "print(P)"
   ]
  },
  {
   "cell_type": "code",
   "execution_count": 8,
   "metadata": {},
   "outputs": [
    {
     "ename": "ModuleNotFoundError",
     "evalue": "No module named 'numpy'",
     "output_type": "error",
     "traceback": [
      "\u001b[0;31m---------------------------------------------------------------------------\u001b[0m",
      "\u001b[0;31mModuleNotFoundError\u001b[0m                       Traceback (most recent call last)",
      "\u001b[0;32m<ipython-input-8-b9bfdbc64269>\u001b[0m in \u001b[0;36m<module>\u001b[0;34m\u001b[0m\n\u001b[0;32m----> 1\u001b[0;31m \u001b[0;32mimport\u001b[0m \u001b[0mnumpy\u001b[0m \u001b[0;32mas\u001b[0m \u001b[0mnp\u001b[0m\u001b[0;34m\u001b[0m\u001b[0;34m\u001b[0m\u001b[0m\n\u001b[0m\u001b[1;32m      2\u001b[0m \u001b[0;32mimport\u001b[0m \u001b[0mmath\u001b[0m \u001b[0;32mas\u001b[0m \u001b[0mm\u001b[0m\u001b[0;34m\u001b[0m\u001b[0;34m\u001b[0m\u001b[0m\n\u001b[1;32m      3\u001b[0m \u001b[0;34m\u001b[0m\u001b[0m\n\u001b[1;32m      4\u001b[0m \u001b[0;32mwith\u001b[0m \u001b[0mopen\u001b[0m\u001b[0;34m(\u001b[0m\u001b[0;34m\"input.txt\"\u001b[0m\u001b[0;34m,\u001b[0m \u001b[0;34m\"r\"\u001b[0m\u001b[0;34m)\u001b[0m \u001b[0;32mas\u001b[0m \u001b[0minput\u001b[0m\u001b[0;34m:\u001b[0m\u001b[0;34m\u001b[0m\u001b[0;34m\u001b[0m\u001b[0m\n\u001b[1;32m      5\u001b[0m     \u001b[0mdata\u001b[0m \u001b[0;34m=\u001b[0m \u001b[0minput\u001b[0m\u001b[0;34m.\u001b[0m\u001b[0mread\u001b[0m\u001b[0;34m(\u001b[0m\u001b[0;34m)\u001b[0m\u001b[0;34m.\u001b[0m\u001b[0msplit\u001b[0m\u001b[0;34m(\u001b[0m\u001b[0;34m\"\\n\"\u001b[0m\u001b[0;34m)\u001b[0m\u001b[0;34m\u001b[0m\u001b[0;34m\u001b[0m\u001b[0m\n",
      "\u001b[0;31mModuleNotFoundError\u001b[0m: No module named 'numpy'"
     ]
    }
   ],
   "source": [
    "import numpy as np\n",
    "import math as m\n",
    "\n",
    "with open(\"input.txt\", \"r\") as input:\n",
    "    data = input.read().split(\"\\n\")\n",
    "    \n",
    "print(data)\n",
    "\n",
    "names = []\n",
    "for i in data[0].split(\" \"):\n",
    "    names.append(i)\n",
    "\n",
    "A = np.full((len(names), len(names)), m.inf)\n",
    "\n",
    "print(names)\n",
    "for i in range(len(names)):\n",
    "    connection = data[i+1].split(\" \")\n",
    "    for x in range(len(names)):\n",
    "        if (connection[0] == names[x]):\n",
    "            for y in range(x, len(names), 1):\n",
    "                if (connection[1] == names[y]):\n",
    "                    A[x][y] = connection[2]\n",
    "\n",
    "print(A)"
   ]
  },
  {
   "cell_type": "code",
   "execution_count": null,
   "metadata": {},
   "outputs": [],
   "source": []
  }
 ],
 "metadata": {
  "kernelspec": {
   "display_name": "Python 3",
   "language": "python",
   "name": "python3"
  },
  "language_info": {
   "codemirror_mode": {
    "name": "ipython",
    "version": 3
   },
   "file_extension": ".py",
   "mimetype": "text/x-python",
   "name": "python",
   "nbconvert_exporter": "python",
   "pygments_lexer": "ipython3",
   "version": "3.8.10"
  }
 },
 "nbformat": 4,
 "nbformat_minor": 4
}
