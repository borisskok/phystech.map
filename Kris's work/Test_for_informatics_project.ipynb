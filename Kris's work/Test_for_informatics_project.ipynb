{
 "cells": [
  {
   "cell_type": "code",
   "execution_count": 9,
   "metadata": {},
   "outputs": [
    {
     "name": "stdout",
     "output_type": "stream",
     "text": [
      "[[0, 1, 1, 1, inf, inf], [1, 0, inf, inf, 1, 1], [1, inf, 0, 0, inf, inf], [1, inf, 0, 0, inf, inf], [inf, 1, inf, inf, 0, 0], [inf, 1, inf, inf, 0, 0]]\n"
     ]
    }
   ],
   "source": [
    "import math\n",
    "\n",
    "with open(\"input.txt\", \"r\") as input:   #считываем данные из файла, разделяем всё по строкам\n",
    "    data = input.read().split(\"\\n\")\n",
    "\n",
    "names = []  #создаем список имен - названий вершин, знаем, что первая строка в файле их содержит\n",
    "for i in data[0].split(\" \"):\n",
    "    names.append(i)\n",
    "\n",
    "#A = np.full((len(names), len(names)), math.inf) #создаем матрицу из бесконечностей\n",
    "\n",
    "A = list()\n",
    "for i in range(len(names)):\n",
    "    mini_A = list()\n",
    "    for j in range(len(names)):\n",
    "        mini_A.append(math.inf)\n",
    "    A.append(mini_A)\n",
    "\n",
    "for i in range(len(names)):     #начинаем заполнение матрицы весами ребер\n",
    "    A[i][i] = 0     #присваиваем нули по диагоналям\n",
    "    for j in range(1, len(data)-1, 1):\n",
    "        connection =  data[j].split(\" \") \n",
    "        for x in range(len(names)):\n",
    "            if (connection[0] == names[x]):     #ищем первую вершину, указанную в строчке\n",
    "                for y in range(len(names)):       #ищем вторую вершину, указанную в строчке. Также знаем, что она гарантированно будет дальше по номеру, относительно первой вершины\n",
    "                    if (connection[1] == names[y]):     #если это не гарантированно, то range(len(names))\n",
    "                        A[x][y] = int(connection[2])     #заполняем матрицу(получается симметричной)\n",
    "                        A[y][x] = int(connection[2])\n",
    "\n",
    "print(A)"
   ]
  },
  {
   "cell_type": "code",
   "execution_count": 10,
   "metadata": {},
   "outputs": [
    {
     "name": "stdout",
     "output_type": "stream",
     "text": [
      "2 4\n",
      "buf_LK_GK buf_11_21\n"
     ]
    }
   ],
   "source": [
    "dest = data[len(data) - 1].split(\" \")       #записываем начало и конец пути в переменные, зная, что в файле эта информация на последней строке\n",
    "\n",
    "for i in range(len(names)):\n",
    "    if(dest[0] == names[i]):\n",
    "        start = i\n",
    "    if (dest[1] == names[i]):\n",
    "        end = i\n",
    "\n",
    "print(start, end)\n",
    "print(dest[0], dest[1])"
   ]
  },
  {
   "cell_type": "code",
   "execution_count": 11,
   "metadata": {},
   "outputs": [
    {
     "name": "stdout",
     "output_type": "stream",
     "text": [
      "[4, 1, 0, 2]\n",
      "buf_11_21\n",
      "102\n",
      "101\n",
      "buf_LK_GK\n"
     ]
    }
   ],
   "source": [
    "#функция для выбора следующего узла в наименьшим весом\n",
    "\n",
    "def arg_min(Weight, Viewed):\n",
    "    amin = -1\n",
    "    amax = math.inf     #максимальное значение\n",
    "    for i, t in enumerate(Weight):\n",
    "        if(t < amax) and i not in Viewed:\n",
    "            amax = t\n",
    "            amin = i\n",
    "    return amin\n",
    "\n",
    "## Алгоритм Дейкстры ##\n",
    "\n",
    "Weight = [math.inf]*len(names)      #последняя строка таблицы\n",
    "\n",
    "Viewed = {start}        #просмотренные вершины\n",
    "Weight[start] = 0       #нулевой вес для стартовой вершины\n",
    "Optimal = [0]*len(names)        #оптимальные связи между вершинами\n",
    "\n",
    "v = start\n",
    "while v != -1:      #просматривавем все вершины\n",
    "    for j, dw in enumerate(A[v]):       #перебираем все связанные вершины с вершиной v\n",
    "        if j not in Viewed:     #если вершина ещё не просмотрена\n",
    "            w = Weight[v] + dw\n",
    "            if w < Weight[j]:\n",
    "                Weight[j] = w\n",
    "                Optimal[j] = v      #связываем вершину j с вершной v\n",
    "\n",
    "    v = arg_min(Weight, Viewed)     #выбираем следующий узел с наименьшим весом\n",
    "    if v >= 0:      #выбираем очередную вершину\n",
    "        Viewed.add(v)       #добавляем новую вершину в рассмотренные\n",
    "\n",
    "\n",
    "# формирование оптимального маршрута:\n",
    "P = [end]\n",
    "while end != start:\n",
    "    end = Optimal[P[-1]]\n",
    "    P.append(end)\n",
    "\n",
    "print(P)\n",
    "for i in range(len(P)):\n",
    "    print(names[P[i]])"
   ]
  },
  {
   "cell_type": "code",
   "execution_count": 12,
   "metadata": {},
   "outputs": [],
   "source": [
    "with open(\"output_from_Kris.txt\", \"w\") as output:\n",
    "    for i in range(len(P)-1, 0, -1):\n",
    "        output.write(names[P[i]], \" \")\n",
    "    output.write(names[P[i]])"
   ]
  },
  {
   "cell_type": "code",
   "execution_count": null,
   "metadata": {},
   "outputs": [],
   "source": []
  }
 ],
 "metadata": {
  "kernelspec": {
   "display_name": "Python 3",
   "language": "python",
   "name": "python3"
  },
  "language_info": {
   "codemirror_mode": {
    "name": "ipython",
    "version": 3
   },
   "file_extension": ".py",
   "mimetype": "text/x-python",
   "name": "python",
   "nbconvert_exporter": "python",
   "pygments_lexer": "ipython3",
   "version": "3.8.5"
  }
 },
 "nbformat": 4,
 "nbformat_minor": 4
}
